{
  "nbformat": 4,
  "nbformat_minor": 0,
  "metadata": {
    "colab": {
      "provenance": []
    },
    "kernelspec": {
      "name": "python3",
      "display_name": "Python 3"
    },
    "language_info": {
      "name": "python"
    }
  },
  "cells": [
    {
      "cell_type": "code",
      "execution_count": 3,
      "metadata": {
        "id": "AFbChjMz0SZh"
      },
      "outputs": [],
      "source": [
        "# Import necessary libraries\n",
        "import pandas as pd\n",
        "import numpy as np\n",
        "from sklearn.model_selection import train_test_split, GridSearchCV\n",
        "from sklearn.ensemble import RandomForestClassifier\n",
        "from sklearn.feature_selection import RFE\n",
        "from sklearn.metrics import accuracy_score, classification_report, confusion_matrix\n",
        "import matplotlib.pyplot as plt\n",
        "from sklearn.neighbors import KNeighborsClassifier\n",
        "from sklearn.preprocessing import StandardScaler\n",
        "from imblearn.over_sampling import SMOTE\n",
        "from collections import Counter\n",
        "\n",
        "# 1. Load the data\n",
        "url_metadata  = \"https://raw.githubusercontent.com/Lemurlover/hackbio-cancer-internship/main/data/TCGA_COAD_metadata.csv\"\n",
        "metadata = pd.read_csv(url_metadata)\n",
        "\n"
      ]
    },
    {
      "cell_type": "code",
      "source": [
        "print(metadata.columns)"
      ],
      "metadata": {
        "colab": {
          "base_uri": "https://localhost:8080/"
        },
        "id": "HrWp9vX4BgpX",
        "outputId": "3b9a5ef3-e29c-4e61-ef00-5edb5b5e42e1"
      },
      "execution_count": 4,
      "outputs": [
        {
          "output_type": "stream",
          "name": "stdout",
          "text": [
            "Index(['Barcode', 'tumor_type', 'sample_type', 'tissue_type', 'gender',\n",
            "       'pathologic_stage', 'tumor_stage'],\n",
            "      dtype='object')\n"
          ]
        }
      ]
    },
    {
      "cell_type": "code",
      "source": [
        "url_normdata = \"https://raw.githubusercontent.com/Lemurlover/hackbio-cancer-internship/main/data/normalized_data.csv\"\n",
        "gene_expression = pd.read_csv(url_normdata)\n",
        "\n",
        "print(metadata.columns)\n",
        "print(gene_expression.columns)"
      ],
      "metadata": {
        "colab": {
          "base_uri": "https://localhost:8080/"
        },
        "id": "MH9OMtENA74H",
        "outputId": "dc4007eb-d467-429f-acc0-1d9cea4e4a64"
      },
      "execution_count": 7,
      "outputs": [
        {
          "output_type": "stream",
          "name": "stdout",
          "text": [
            "Index(['Barcode', 'tumor_type', 'sample_type', 'tissue_type', 'gender',\n",
            "       'pathologic_stage', 'tumor_stage'],\n",
            "      dtype='object')\n",
            "Index(['Unnamed: 0', 'TCGA-AA-3692-01A-01R-0905-07',\n",
            "       'TCGA-AA-A00L-01A-01R-A002-07', 'TCGA-G4-6625-01A-21R-1774-07',\n",
            "       'TCGA-AA-3522-01A-01R-0821-07', 'TCGA-CM-4750-01A-01R-1410-07',\n",
            "       'TCGA-AA-3554-01A-01R-0826-07', 'TCGA-AA-3561-01A-01R-0821-07',\n",
            "       'TCGA-G4-6307-01A-11R-1723-07', 'TCGA-A6-6781-01A-22R-A278-07',\n",
            "       ...\n",
            "       'TCGA-A6-2680-11A-01R-A32Z-07', 'TCGA-A6-5667-11A-01R-1723-07',\n",
            "       'TCGA-AA-3520-11A-01R-A32Z-07', 'TCGA-AZ-6605-11A-01R-1839-07',\n",
            "       'TCGA-AA-3489-11A-01R-1839-07', 'TCGA-AA-3534-11A-01R-A32Z-07',\n",
            "       'TCGA-A6-2685-11A-01R-A32Z-07', 'TCGA-AA-3527-11A-01R-A32Z-07',\n",
            "       'TCGA-AA-3697-11A-01R-1723-07', 'TCGA-AA-3712-11A-01R-1723-07'],\n",
            "      dtype='object', length=523)\n"
          ]
        }
      ]
    },
    {
      "cell_type": "code",
      "source": [
        "# 2. Prepare data for ML\n",
        "# Set the sample_id as the index for metadata\n",
        "metadata.set_index('Barcode', inplace=True)"
      ],
      "metadata": {
        "id": "BTT5CdKq0hEU"
      },
      "execution_count": 9,
      "outputs": []
    },
    {
      "cell_type": "code",
      "source": [
        "# Ensure the sample IDs match between gene expression and metadata\n",
        "common_samples = gene_expression.columns.intersection(metadata.index)\n",
        "\n",
        "# Subset both datasets to include only common samples\n",
        "gene_expression = gene_expression[common_samples]\n",
        "metadata = metadata.loc[common_samples]"
      ],
      "metadata": {
        "id": "EbVVM0cM03Vo"
      },
      "execution_count": 10,
      "outputs": []
    },
    {
      "cell_type": "code",
      "source": [
        "# CHECK DATA IF BALANCED OR IMBALANCED\n",
        "# Check the distribution of cancer diagnosis and stage\n",
        "print(\"\\nSample Type Distribution:\")\n",
        "print(metadata['sample_type'].value_counts())\n",
        "print(\"\\nPathologic Stage Distribution:\")\n",
        "print(metadata['pathologic_stage'].value_counts())\n",
        "\n",
        "\n",
        "\n",
        "# Optionally, plot class distribution\n",
        "import seaborn as sns\n",
        "import matplotlib.pyplot as plt\n",
        "\n",
        "plt.figure(figsize=(8,6))\n",
        "sns.countplot(x='sample_type', data=metadata)\n",
        "plt.title(\"Class Distribution for Tumor Type\")\n",
        "plt.show()\n",
        "\n",
        "plt.figure(figsize=(8,6))\n",
        "sns.countplot(x='tumor_stage', data=metadata)\n",
        "plt.title(\"Class Distribution for Tumor Stage\")\n",
        "plt.show()\n",
        "\n"
      ],
      "metadata": {
        "colab": {
          "base_uri": "https://localhost:8080/",
          "height": 1000
        },
        "id": "VPpbkVN31glA",
        "outputId": "1e9ba187-967e-42b3-e909-59c2bf07f129"
      },
      "execution_count": 14,
      "outputs": [
        {
          "output_type": "stream",
          "name": "stdout",
          "text": [
            "\n",
            "Sample Type Distribution:\n",
            "sample_type\n",
            "Primary Tumor          481\n",
            "Solid Tissue Normal     41\n",
            "Name: count, dtype: int64\n",
            "\n",
            "Pathologic Stage Distribution:\n",
            "pathologic_stage\n",
            "Stage IIA     154\n",
            "Stage I        84\n",
            "Stage IIIB     64\n",
            "Stage IV       54\n",
            "Stage IIIC     46\n",
            "Stage II       41\n",
            "Stage III      22\n",
            "Stage IVA      18\n",
            "Stage IIB      13\n",
            "Stage IIIA      8\n",
            "Stage IVB       2\n",
            "Stage IIC       1\n",
            "Stage IA        1\n",
            "Name: count, dtype: int64\n"
          ]
        },
        {
          "output_type": "display_data",
          "data": {
            "text/plain": [
              "<Figure size 800x600 with 1 Axes>"
            ],
            "image/png": "[encoded data removed]"
          },
          "metadata": {}
        },
        {
          "output_type": "display_data",
          "data": {
            "text/plain": [
              "<Figure size 800x600 with 1 Axes>"
            ],
            "image/png": "[encoded data removed]"
          },
          "metadata": {}
        }
      ]
    },
    {
      "cell_type": "markdown",
      "source": [
        "A-CANCER DIAGNOSIS"
      ],
      "metadata": {
        "id": "66RX3h0CQzao"
      }
    },
    {
      "cell_type": "code",
      "source": [
        " # Features and target variables for cancer diagnosis\n",
        "\n",
        "# Using \"sample_type\" as the target\n",
        "X = gene_expression.T # Transpose to have samples as rows and genes as columns\n",
        "y_diagnosis = metadata['sample_type'] # Target labels\n",
        "\n",
        "# Split data into training and test sets (80% training, 20% testing)\n",
        "X_train_diag, X_test_diag, y_train_diag, y_test_diag = train_test_split(X, y_diagnosis, test_size=0.2, random_state=42, stratify=y_diagnosis)\n",
        "\n",
        "\n"
      ],
      "metadata": {
        "id": "iUr3zTYgQvaH"
      },
      "execution_count": null,
      "outputs": []
    },
    {
      "cell_type": "markdown",
      "source": [
        "A1-RANDOM FOREST MODEL WITH RFE"
      ],
      "metadata": {
        "id": "jIkKFlI7SD6G"
      }
    },
    {
      "cell_type": "code",
      "source": [
        "# Create RandomForest model\n",
        "rf = RandomForestClassifier(n_estimators=500, random_state=42)\n",
        "\n",
        "# Recursive Feature Elimination (RFE) to select important features\n",
        "rfe = RFE(estimator=rf, n_features_to_select=50, step=1)  # Select top 50 features\n",
        "rfe.fit(X_train_diag, y_train_diag)\n",
        "\n",
        "# Transform the training and test data to the selected features\n",
        "X_train_diag_rfe = rfe.transform(X_train_diag)\n",
        "X_test_diag_rfe = rfe.transform(X_test_diag)\n",
        "\n",
        "# Fit the RandomForest model on the reduced features\n",
        "rf.fit(X_train_diag_rfe, y_train_diag)\n",
        "\n",
        "# Make predictions\n",
        "rf_pred_diag = rf.predict(X_test_diag_rfe)\n",
        "\n",
        "# Evaluation\n",
        "print(\"Random Forest Results for Cancer Diagnosis:\")\n",
        "print(confusion_matrix(y_test_diag, rf_pred_diag))\n",
        "print(classification_report(y_test_diag, rf_pred_diag))\n",
        "\n",
        "# Display selected features\n",
        "selected_features = X.columns[rfe.support_]\n",
        "print(\"Selected features:\", selected_features)\n"
      ],
      "metadata": {
        "id": "GkSv6DnZSAPp"
      },
      "execution_count": null,
      "outputs": []
    },
    {
      "cell_type": "markdown",
      "source": [
        "A2-kNN with variance threshold"
      ],
      "metadata": {
        "id": "U2P6QKkCSzgO"
      }
    },
    {
      "cell_type": "code",
      "source": [
        "from sklearn.neighbors import KNeighborsClassifier\n",
        "from sklearn.preprocessing import StandardScaler\n",
        "from sklearn.decomposition import PCA\n",
        "from sklearn.model_selection import GridSearchCV\n",
        "\n",
        "# Scaling features for kNN\n",
        "scaler = StandardScaler()\n",
        "X_train_scaled = scaler.fit_transform(X_train_diag)\n",
        "X_test_scaled = scaler.transform(X_test_diag)\n",
        "\n",
        "# Perform PCA to capture a threshold variance (e.g., 95%)\n",
        "pca = PCA(n_components=0.95)  # Retain 95% variance\n",
        "X_train_pca = pca.fit_transform(X_train_scaled)\n",
        "X_test_pca = pca.transform(X_test_scaled)\n",
        "\n",
        "# Create kNN model\n",
        "knn = KNeighborsClassifier()\n",
        "\n",
        "# Grid search to find the best k\n",
        "params = {'n_neighbors': range(3, 10)}\n",
        "knn_model = GridSearchCV(knn, params, cv=5)\n",
        "knn_model.fit(X_train_pca, y_train_diag)\n",
        "\n",
        "# Make predictions\n",
        "knn_pred_diag = knn_model.predict(X_test_pca)\n",
        "\n",
        "# Evaluation\n",
        "print(\"kNN Results for Cancer Diagnosis:\")\n",
        "print(confusion_matrix(y_test_diag, knn_pred_diag))\n",
        "print(classification_report(y_test_diag, knn_pred_diag))\n",
        "\n",
        "# Best k value\n",
        "print(\"Best k for kNN:\", knn_model.best_params_)\n"
      ],
      "metadata": {
        "id": "QEYIM0V3S_WF"
      },
      "execution_count": null,
      "outputs": []
    },
    {
      "cell_type": "markdown",
      "source": [
        "B-CANCER CLASSIFICATION"
      ],
      "metadata": {
        "id": "Dn9ZcT37THCp"
      }
    },
    {
      "cell_type": "code",
      "source": [
        "# Features and target variables for cancer stage classification\n",
        "X = gene_expression.T # Transpose to have samples as rows and genes as columns\n",
        "y_stage = data['tumor_stage']  # Target for cancer stage classification\n",
        "\n",
        "# Split data into train and test for both diagnosis and stage classification\n",
        "from sklearn.model_selection import train_test_split\n",
        "\n",
        "# Split for diagnosis\n",
        "X_train_diag, X_test_diag, y_train_diag, y_test_diag = train_test_split(X, y_diagnosis, test_size=0.2, random_state=42, stratify=y_diagnosis)\n",
        "\n",
        "# Split for stage classification\n",
        "X_train_stage, X_test_stage, y_train_stage, y_test_stage = train_test_split(X, y_stage, test_size=0.2, random_state=42, stratify=y_stage)"
      ],
      "metadata": {
        "id": "Nd_ceHAhTNv7"
      },
      "execution_count": null,
      "outputs": []
    }
  ]
}